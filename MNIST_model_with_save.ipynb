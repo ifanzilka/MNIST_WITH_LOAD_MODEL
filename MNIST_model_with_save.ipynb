{
  "nbformat": 4,
  "nbformat_minor": 0,
  "metadata": {
    "colab": {
      "name": "Untitled29.ipynb",
      "provenance": [],
      "collapsed_sections": []
    },
    "kernelspec": {
      "name": "python3",
      "display_name": "Python 3"
    },
    "language_info": {
      "name": "python"
    },
    "accelerator": "GPU"
  },
  "cells": [
    {
      "cell_type": "code",
      "metadata": {
        "id": "80OXv5K_nNSM"
      },
      "source": [
        "\n",
        "import torchvision.transforms as transforms\n",
        "import torchvision as tv\n",
        "import torch\n",
        "import numpy as np\n",
        "import os\n",
        "\n",
        "\n",
        "# Нормализация изображений\n",
        "transform = transforms.Compose([transforms.ToTensor(), transforms.Normalize((0.1307,), (0.3081,))])\n",
        "\n"
      ],
      "execution_count": 10,
      "outputs": []
    },
    {
      "cell_type": "code",
      "metadata": {
        "id": "jgHDNuqKtngn"
      },
      "source": [
        "# Для вывода изображений\n",
        "import matplotlib.pyplot as plt\n"
      ],
      "execution_count": 11,
      "outputs": []
    },
    {
      "cell_type": "code",
      "metadata": {
        "id": "LinUfUHho2Tp"
      },
      "source": [
        "# Скачиваем данные, указываем директорию \n",
        "trainset = tv.datasets.MNIST(root='./data',  train=True, download=True, transform=transform)\n",
        "testset = tv.datasets.MNIST(root='./data', train=False, download=True, transform=transform)\n"
      ],
      "execution_count": 12,
      "outputs": []
    },
    {
      "cell_type": "code",
      "metadata": {
        "colab": {
          "base_uri": "https://localhost:8080/"
        },
        "id": "Y8DQpI-orIAn",
        "outputId": "768e5075-b16d-466a-e53c-d16ed6b563d8"
      },
      "source": [
        "# Делаем датасеты с различными параметрами\n",
        "# shuffle -> перемешивать\n",
        "# num_workers -> сколько процессов обрабатывают\n",
        "dataloader = torch.utils.data.DataLoader(trainset, batch_size=32, shuffle=False, num_workers=4)\n",
        "testloader = torch.utils.data.DataLoader(testset, batch_size=32, shuffle=False, num_workers=2)"
      ],
      "execution_count": 13,
      "outputs": [
        {
          "output_type": "stream",
          "text": [
            "/usr/local/lib/python3.7/dist-packages/torch/utils/data/dataloader.py:481: UserWarning: This DataLoader will create 4 worker processes in total. Our suggested max number of worker in current system is 2, which is smaller than what this DataLoader is going to create. Please be aware that excessive worker creation might get DataLoader running slow or even freeze, lower the worker number to avoid potential slowness/freeze if necessary.\n",
            "  cpuset_checked))\n"
          ],
          "name": "stderr"
        }
      ]
    },
    {
      "cell_type": "code",
      "metadata": {
        "id": "TsoWShyRunVM"
      },
      "source": [
        ""
      ],
      "execution_count": 13,
      "outputs": []
    },
    {
      "cell_type": "code",
      "metadata": {
        "id": "o2fuDhs9qcnf"
      },
      "source": [
        "# Данные без норализации\n",
        "\n",
        "#trainset_2 = tv.datasets.MNIST(root='./data_2',  train=True, download=True)\n",
        "#testset_2 = tv.datasets.MNIST(root='./data_2', train=False, download=True)"
      ],
      "execution_count": 14,
      "outputs": []
    },
    {
      "cell_type": "code",
      "metadata": {
        "id": "stzXICmpqBLP"
      },
      "source": [
        "#dataloader_2 = torch.utils.data.DataLoader(trainset_2, batch_size=1, shuffle=False, num_workers=4)\n",
        "#testloader_2 = torch.utils.data.DataLoader(testset_2, batch_size=1, shuffle=False, num_workers=2)"
      ],
      "execution_count": 15,
      "outputs": []
    },
    {
      "cell_type": "code",
      "metadata": {
        "colab": {
          "base_uri": "https://localhost:8080/",
          "height": 319
        },
        "id": "yiNCuF_-tl7Y",
        "outputId": "b91b4721-b878-4619-9c1a-b51e8647e0c9"
      },
      "source": [
        "for data in dataloader:\n",
        "\n",
        "  img, _ = data\n",
        "  #print(img[0][0])\n",
        "  plt.imshow(img[0][0])\n",
        "  break"
      ],
      "execution_count": 16,
      "outputs": [
        {
          "output_type": "stream",
          "text": [
            "/usr/local/lib/python3.7/dist-packages/torch/utils/data/dataloader.py:481: UserWarning: This DataLoader will create 4 worker processes in total. Our suggested max number of worker in current system is 2, which is smaller than what this DataLoader is going to create. Please be aware that excessive worker creation might get DataLoader running slow or even freeze, lower the worker number to avoid potential slowness/freeze if necessary.\n",
            "  cpuset_checked))\n"
          ],
          "name": "stderr"
        },
        {
          "output_type": "display_data",
          "data": {
            "image/png": "[encoded data removed]",
            "text/plain": [
              "<Figure size 432x288 with 1 Axes>"
            ]
          },
          "metadata": {
            "needs_background": "light"
          }
        }
      ]
    },
    {
      "cell_type": "code",
      "metadata": {
        "id": "X_QUyZ0Ov6vs"
      },
      "source": [
        "def plot_image(image):\n",
        "\n",
        "  image = image[0]\n",
        "  mean = 0.1307\n",
        "  std = 0.3081\n",
        "  image = ((mean * image) + std)\n",
        "  plt.imshow(image, cmap = 'gray')"
      ],
      "execution_count": 17,
      "outputs": []
    },
    {
      "cell_type": "code",
      "metadata": {
        "colab": {
          "base_uri": "https://localhost:8080/",
          "height": 319
        },
        "id": "icffr41twhWf",
        "outputId": "ab5ac998-4b49-4de8-9910-a4065372d969"
      },
      "source": [
        "sample_image = next(iter(dataloader))\n",
        "\n",
        "plot_image(sample_image[0][0])"
      ],
      "execution_count": 18,
      "outputs": [
        {
          "output_type": "stream",
          "text": [
            "/usr/local/lib/python3.7/dist-packages/torch/utils/data/dataloader.py:481: UserWarning: This DataLoader will create 4 worker processes in total. Our suggested max number of worker in current system is 2, which is smaller than what this DataLoader is going to create. Please be aware that excessive worker creation might get DataLoader running slow or even freeze, lower the worker number to avoid potential slowness/freeze if necessary.\n",
            "  cpuset_checked))\n"
          ],
          "name": "stderr"
        },
        {
          "output_type": "display_data",
          "data": {
            "image/png": "[encoded data removed]",
            "text/plain": [
              "<Figure size 432x288 with 1 Axes>"
            ]
          },
          "metadata": {
            "needs_background": "light"
          }
        }
      ]
    },
    {
      "cell_type": "code",
      "metadata": {
        "id": "z4B4J9WkzaOb"
      },
      "source": [
        "import torch.nn as nn\n",
        "import torch.nn.functional as F"
      ],
      "execution_count": 19,
      "outputs": []
    },
    {
      "cell_type": "code",
      "metadata": {
        "id": "d_IcH0_yzCD7"
      },
      "source": [
        "## Наследуемся чтобы определить много стандартных методов\n",
        "\n",
        "\"\"\"\n",
        "MaxPol2D\n",
        "\n",
        "4x4 -> 2x2\n",
        "\n",
        "\"\"\"\n",
        "\n",
        "class Net(nn.Module):\n",
        "  \n",
        "  def __init__(self):\n",
        "    super().__init__()\n",
        "    self.conv1 = nn.Conv2d(1, 10 , kernel_size = 5)\n",
        "    self.conv2 = nn.Conv2d(10, 20, kernel_size = 5)\n",
        "    self.conv_drop =  nn.Dropout2d()\n",
        "    self.fc1 = nn.Linear(320, 50)\n",
        "    self.fc2 = nn.Linear(50, 10)\n",
        "\n",
        "  def forward(self, x):\n",
        "     x = self.conv1(x)\n",
        "     x = F.max_pool2d(x, 2)\n",
        "     x = F.relu(x)\n",
        "     x = self.conv2(x)\n",
        "     x = self.conv_drop(x)\n",
        "     x = F.max_pool2d(x, 2)\n",
        "     x = F.relu(x)\n",
        "     x = x.view(-1, 320)\n",
        "     x = self.fc1(x)\n",
        "     x = F.relu(x)\n",
        "     x = F.dropout(x, training=self.training)\n",
        "     x = self.fc2(x)\n",
        "     return F.log_softmax(x)"
      ],
      "execution_count": 20,
      "outputs": []
    },
    {
      "cell_type": "code",
      "metadata": {
        "id": "8uVb_PgIIWCm"
      },
      "source": [
        "from torch.autograd import Variable\n",
        "import matplotlib.pyplot as plt\n",
        "\n",
        "\n",
        "class Training_Model():\n",
        "\n",
        "  def __init__(self, model, optimizer_, loss_, is_cuda = False):\n",
        "    self.model = model\n",
        "    self.optimizer_ = optimizer_\n",
        "    self.loss_ = loss_\n",
        "    self.is_cuda = is_cuda\n",
        "    self.train_losses = [] \n",
        "    self.train_accuracy = []\n",
        "    self.val_losses = []\n",
        "    self.val_accuracy = []\n",
        "\n",
        "    if is_cuda:\n",
        "      model.cuda()\n",
        "    else:\n",
        "      model.cpu() \n",
        "\n",
        "  def train_epoch(self, dataloader, phase, volatile=False):\n",
        "      \n",
        "      if phase == 'Train':\n",
        "        self.model.train()\n",
        "  \n",
        "      if phase == 'Val':\n",
        "        # выключаем дропаут\n",
        "        self.model.eval()\n",
        "        volatile = True\n",
        "\n",
        "      running_loss = 0.0\n",
        "      running_correct = 0.0\n",
        "\n",
        "      for batch_idx, (data, target) in enumerate(dataloader):\n",
        "        if self.is_cuda:\n",
        "          data, target = data.cuda(), target.cuda()\n",
        "\n",
        "        # Делаем так чтобы были градиенты у них\n",
        "        data, target = Variable(data, volatile) , Variable(target)\n",
        "      \n",
        "        if phase == 'Train':\n",
        "          self.optimizer_.zero_grad()\n",
        "\n",
        "        output = self.model(data)\n",
        "      \n",
        "        loss = self.loss_(output, target)\n",
        "\n",
        "        running_loss += self.loss_(output, target, size_average=False)\n",
        "        \n",
        "        # ответ сети\n",
        "        preds = output.data.max(dim=1, keepdim=True)[1]\n",
        "        running_correct += preds.eq(target.data.view_as(preds)).cpu().sum()\n",
        "        \n",
        "        if phase == 'Train':\n",
        "          loss.backward()\n",
        "          self.optimizer_.step()\n",
        "\n",
        "      loss = running_loss / len(dataloader.dataset)\n",
        "      accuracy = 100. * running_correct / len(dataloader.dataset)\n",
        "      print(f'{phase} loss is {loss:{5}.{2}} and {phase} accuracy is {running_correct}/{len(dataloader.dataset)} {accuracy:{10}.{4}}')\n",
        "      return loss, accuracy          \n",
        "\n",
        "\n",
        "  def print_history_accuracy(self):\n",
        "    plt.plot(range(1, len(self.train_accuracy) + 1) , self.train_accuracy, 'g', label='train_accuracy')\n",
        "    plt.plot(range(1, len(self.val_accuracy) + 1) , self.val_accuracy, 'r', label='val_accuracy')\n",
        "    plt.legend()\n",
        "\n",
        "  def print_history_loss(self):\n",
        "    plt.plot(range(1, len(self.train_losses) + 1) , self.train_losses, 'g', label='training_loss')\n",
        "    plt.plot(range(1, len(self.val_losses) + 1) , self.val_losses, 'r', label='val_losses')\n",
        "    plt.legend()\n",
        "\n",
        "  def fit(self, dataloader, testloader,  num_epochs = 5, volatile=False):\n",
        "    \n",
        "    self.train_losses, self.train_accuracy = [] , []\n",
        "    self.val_losses, self.val_accuracy = [] , []\n",
        "    \n",
        "    for epoch in range(num_epochs):\n",
        "      \n",
        "      print('Epoch [{}/{}]'.format(epoch+ 1, num_epochs))\n",
        "      epoch_loss, epoch_accuracy = self.train_epoch(dataloader, phase = \"Train\", volatile=False)\n",
        "      self.train_losses.append(epoch_loss)\n",
        "      self.train_accuracy.append(epoch_accuracy)\n",
        "      \n",
        "      val_epoch_loss, val_epoch_accuracy = self.train_epoch(testloader, phase = \"Val\", volatile=False)\n",
        "      self.val_losses.append(val_epoch_loss)\n",
        "      self.val_accuracy.append(val_epoch_accuracy)\n",
        "      print(\"<---------------------------------->\")\n",
        "\n",
        "\n",
        "\n"
      ],
      "execution_count": 21,
      "outputs": []
    },
    {
      "cell_type": "code",
      "metadata": {
        "id": "WizXf7RjSne8"
      },
      "source": [
        "import time\n",
        "import torch.optim"
      ],
      "execution_count": 22,
      "outputs": []
    },
    {
      "cell_type": "code",
      "metadata": {
        "id": "I5SlefhR4gD2"
      },
      "source": [
        "\n",
        "model = Net()\n",
        "optimizer = torch.optim.SGD(model.parameters(), lr=0.01, momentum=0.5)\n",
        "loss = F.nll_loss\n",
        "TrainModel = Training_Model(model, optimizer, loss, is_cuda = False)"
      ],
      "execution_count": 23,
      "outputs": []
    },
    {
      "cell_type": "code",
      "metadata": {
        "colab": {
          "base_uri": "https://localhost:8080/"
        },
        "id": "eS2phRx64-_3",
        "outputId": "a5b7b555-cffd-493d-a2f9-0464f476744d"
      },
      "source": [
        "start_time = time.time()\n",
        "TrainModel.fit(dataloader, testloader, 5)\n",
        "print(\"--- %s seconds ---\" % (time.time() - start_time))"
      ],
      "execution_count": 24,
      "outputs": [
        {
          "output_type": "stream",
          "text": [
            "Epoch [1/5]\n"
          ],
          "name": "stdout"
        },
        {
          "output_type": "stream",
          "text": [
            "/usr/local/lib/python3.7/dist-packages/torch/utils/data/dataloader.py:481: UserWarning: This DataLoader will create 4 worker processes in total. Our suggested max number of worker in current system is 2, which is smaller than what this DataLoader is going to create. Please be aware that excessive worker creation might get DataLoader running slow or even freeze, lower the worker number to avoid potential slowness/freeze if necessary.\n",
            "  cpuset_checked))\n",
            "/usr/local/lib/python3.7/dist-packages/torch/nn/functional.py:718: UserWarning: Named tensors and all their associated APIs are an experimental feature and subject to change. Please do not use them for anything important until they are released as stable. (Triggered internally at  /pytorch/c10/core/TensorImpl.h:1156.)\n",
            "  return torch.max_pool2d(input, kernel_size, stride, padding, dilation, ceil_mode)\n",
            "/usr/local/lib/python3.7/dist-packages/ipykernel_launcher.py:33: UserWarning: Implicit dimension choice for log_softmax has been deprecated. Change the call to include dim=X as an argument.\n",
            "/usr/local/lib/python3.7/dist-packages/torch/nn/_reduction.py:42: UserWarning: size_average and reduce args will be deprecated, please use reduction='sum' instead.\n",
            "  warnings.warn(warning.format(ret))\n"
          ],
          "name": "stderr"
        },
        {
          "output_type": "stream",
          "text": [
            "Train loss is  0.66 and Train accuracy is 47011.0/60000      78.35\n",
            "Val loss is  0.13 and Val accuracy is 9611.0/10000      96.11\n",
            "<---------------------------------->\n",
            "Epoch [2/5]\n",
            "Train loss is  0.29 and Train accuracy is 54728.0/60000      91.21\n",
            "Val loss is 0.086 and Val accuracy is 9737.0/10000      97.37\n",
            "<---------------------------------->\n",
            "Epoch [3/5]\n",
            "Train loss is  0.24 and Train accuracy is 55709.0/60000      92.85\n",
            "Val loss is 0.073 and Val accuracy is 9763.0/10000      97.63\n",
            "<---------------------------------->\n",
            "Epoch [4/5]\n",
            "Train loss is  0.21 and Train accuracy is 56371.0/60000      93.95\n",
            "Val loss is 0.063 and Val accuracy is 9804.0/10000      98.04\n",
            "<---------------------------------->\n",
            "Epoch [5/5]\n",
            "Train loss is  0.19 and Train accuracy is 56665.0/60000      94.44\n",
            "Val loss is 0.059 and Val accuracy is 9813.0/10000      98.13\n",
            "<---------------------------------->\n",
            "--- 179.79001712799072 seconds ---\n"
          ],
          "name": "stdout"
        }
      ]
    },
    {
      "cell_type": "code",
      "metadata": {
        "colab": {
          "base_uri": "https://localhost:8080/",
          "height": 265
        },
        "id": "yCgrxnq78f42",
        "outputId": "9e856073-f2ed-4c87-d9cd-786726a65d83"
      },
      "source": [
        "TrainModel.print_history_accuracy()"
      ],
      "execution_count": 25,
      "outputs": [
        {
          "output_type": "display_data",
          "data": {
            "image/png": "[encoded data removed]",
            "text/plain": [
              "<Figure size 432x288 with 1 Axes>"
            ]
          },
          "metadata": {
            "needs_background": "light"
          }
        }
      ]
    },
    {
      "cell_type": "code",
      "metadata": {
        "colab": {
          "base_uri": "https://localhost:8080/",
          "height": 265
        },
        "id": "FUnRQJi9-ZU5",
        "outputId": "a49458e2-5105-416f-e0dc-40c7c1c574ea"
      },
      "source": [
        "TrainModel.print_history_loss()"
      ],
      "execution_count": 26,
      "outputs": [
        {
          "output_type": "display_data",
          "data": {
            "image/png": "[encoded data removed]",
            "text/plain": [
              "<Figure size 432x288 with 1 Axes>"
            ]
          },
          "metadata": {
            "needs_background": "light"
          }
        }
      ]
    },
    {
      "cell_type": "code",
      "metadata": {
        "id": "eIjrYn1ByjKz"
      },
      "source": [
        "model = Net()\n",
        "optimizer = torch.optim.SGD(model.parameters(), lr=0.01, momentum=0.5)\n",
        "loss = F.nll_loss\n",
        "TrainModel = Training_Model(model, optimizer, loss, is_cuda = False)"
      ],
      "execution_count": 27,
      "outputs": []
    },
    {
      "cell_type": "code",
      "metadata": {
        "colab": {
          "base_uri": "https://localhost:8080/"
        },
        "id": "XCz6J_5QtBRd",
        "outputId": "ddc3462d-1e27-4e79-caf2-2500144c96c6"
      },
      "source": [
        "start_time = time.time()\n",
        "TrainModel.fit(dataloader, testloader, 5)\n",
        "print(\"--- %s seconds ---\" % (time.time() - start_time))"
      ],
      "execution_count": 28,
      "outputs": [
        {
          "output_type": "stream",
          "text": [
            "Epoch [1/5]\n"
          ],
          "name": "stdout"
        },
        {
          "output_type": "stream",
          "text": [
            "/usr/local/lib/python3.7/dist-packages/torch/utils/data/dataloader.py:481: UserWarning: This DataLoader will create 4 worker processes in total. Our suggested max number of worker in current system is 2, which is smaller than what this DataLoader is going to create. Please be aware that excessive worker creation might get DataLoader running slow or even freeze, lower the worker number to avoid potential slowness/freeze if necessary.\n",
            "  cpuset_checked))\n",
            "/usr/local/lib/python3.7/dist-packages/ipykernel_launcher.py:33: UserWarning: Implicit dimension choice for log_softmax has been deprecated. Change the call to include dim=X as an argument.\n",
            "/usr/local/lib/python3.7/dist-packages/torch/nn/_reduction.py:42: UserWarning: size_average and reduce args will be deprecated, please use reduction='sum' instead.\n",
            "  warnings.warn(warning.format(ret))\n"
          ],
          "name": "stderr"
        },
        {
          "output_type": "stream",
          "text": [
            "Train loss is  0.71 and Train accuracy is 46004.0/60000      76.67\n",
            "Val loss is  0.16 and Val accuracy is 9508.0/10000      95.08\n",
            "<---------------------------------->\n",
            "Epoch [2/5]\n",
            "Train loss is  0.33 and Train accuracy is 54208.0/60000      90.35\n",
            "Val loss is  0.11 and Val accuracy is 9646.0/10000      96.46\n",
            "<---------------------------------->\n",
            "Epoch [3/5]\n",
            "Train loss is  0.26 and Train accuracy is 55362.0/60000      92.27\n",
            "Val loss is 0.083 and Val accuracy is 9725.0/10000      97.25\n",
            "<---------------------------------->\n",
            "Epoch [4/5]\n",
            "Train loss is  0.23 and Train accuracy is 55982.0/60000       93.3\n",
            "Val loss is 0.075 and Val accuracy is 9752.0/10000      97.52\n",
            "<---------------------------------->\n",
            "Epoch [5/5]\n",
            "Train loss is  0.21 and Train accuracy is 56366.0/60000      93.94\n",
            "Val loss is 0.063 and Val accuracy is 9788.0/10000      97.88\n",
            "<---------------------------------->\n",
            "--- 183.21941113471985 seconds ---\n"
          ],
          "name": "stdout"
        }
      ]
    },
    {
      "cell_type": "code",
      "metadata": {
        "id": "8QaoaCw13K6P"
      },
      "source": [
        "def ind_max(mas):\n",
        "  maxim = max(mas)\n",
        "  for i in range(len(mas)):\n",
        "    if mas[i] == maxim:\n",
        "      return i"
      ],
      "execution_count": 29,
      "outputs": []
    },
    {
      "cell_type": "code",
      "metadata": {
        "colab": {
          "base_uri": "https://localhost:8080/",
          "height": 353
        },
        "id": "4rTzb1ze2CFc",
        "outputId": "4527801d-2b6d-4fc9-e78e-a07fac59927a"
      },
      "source": [
        "## получаем ответ\n",
        "sample_image = next(iter(dataloader))\n",
        "res = model.forward(sample_image[0].cpu())\n",
        "print(ind_max(res[7]))\n",
        "\n",
        "\n",
        "plot_image(sample_image[0][7])"
      ],
      "execution_count": 31,
      "outputs": [
        {
          "output_type": "stream",
          "text": [
            "/usr/local/lib/python3.7/dist-packages/torch/utils/data/dataloader.py:481: UserWarning: This DataLoader will create 4 worker processes in total. Our suggested max number of worker in current system is 2, which is smaller than what this DataLoader is going to create. Please be aware that excessive worker creation might get DataLoader running slow or even freeze, lower the worker number to avoid potential slowness/freeze if necessary.\n",
            "  cpuset_checked))\n",
            "/usr/local/lib/python3.7/dist-packages/ipykernel_launcher.py:33: UserWarning: Implicit dimension choice for log_softmax has been deprecated. Change the call to include dim=X as an argument.\n"
          ],
          "name": "stderr"
        },
        {
          "output_type": "stream",
          "text": [
            "3\n"
          ],
          "name": "stdout"
        },
        {
          "output_type": "display_data",
          "data": {
            "image/png": "[encoded data removed]",
            "text/plain": [
              "<Figure size 432x288 with 1 Axes>"
            ]
          },
          "metadata": {
            "needs_background": "light"
          }
        }
      ]
    },
    {
      "cell_type": "code",
      "metadata": {
        "id": "7mtbLnjwuBGU"
      },
      "source": [
        "#### Save model weights\n",
        "\n",
        "torch.save(model.state_dict(), \"mnist state_dict.pth\")\n"
      ],
      "execution_count": 32,
      "outputs": []
    },
    {
      "cell_type": "code",
      "metadata": {
        "id": "rWn-6p_3EiGy"
      },
      "source": [
        "# load model. (weights)\n",
        "\n",
        "state_dict = torch.load(\"mnist state_dict.pth\", map_location = torch.device ('cpu'))\n",
        "\n",
        "# model\n",
        "model_two = Net()"
      ],
      "execution_count": 33,
      "outputs": []
    },
    {
      "cell_type": "code",
      "metadata": {
        "colab": {
          "base_uri": "https://localhost:8080/"
        },
        "id": "Wn2zT-zHE3os",
        "outputId": "51722577-f039-4b6e-cc66-e487eb1decb7"
      },
      "source": [
        "# load weight in my moel\n",
        "model_two.load_state_dict(state_dict)"
      ],
      "execution_count": 34,
      "outputs": [
        {
          "output_type": "execute_result",
          "data": {
            "text/plain": [
              "<All keys matched successfully>"
            ]
          },
          "metadata": {},
          "execution_count": 34
        }
      ]
    },
    {
      "cell_type": "code",
      "metadata": {
        "colab": {
          "base_uri": "https://localhost:8080/"
        },
        "id": "PDyHnjGIFQLN",
        "outputId": "e7f90907-63f6-4252-f314-43f99d65176c"
      },
      "source": [
        "model_two.eval()\n"
      ],
      "execution_count": 35,
      "outputs": [
        {
          "output_type": "execute_result",
          "data": {
            "text/plain": [
              "Net(\n",
              "  (conv1): Conv2d(1, 10, kernel_size=(5, 5), stride=(1, 1))\n",
              "  (conv2): Conv2d(10, 20, kernel_size=(5, 5), stride=(1, 1))\n",
              "  (conv_drop): Dropout2d(p=0.5, inplace=False)\n",
              "  (fc1): Linear(in_features=320, out_features=50, bias=True)\n",
              "  (fc2): Linear(in_features=50, out_features=10, bias=True)\n",
              ")"
            ]
          },
          "metadata": {},
          "execution_count": 35
        }
      ]
    },
    {
      "cell_type": "code",
      "metadata": {
        "colab": {
          "base_uri": "https://localhost:8080/",
          "height": 353
        },
        "id": "lyb0OcRPFX1A",
        "outputId": "1ce15f7b-ebfb-408e-9a66-4f00a0a41055"
      },
      "source": [
        "## получаем ответ\n",
        "sample_image = next(iter(dataloader))\n",
        "res = model_two.forward(sample_image[0].cpu())\n",
        "print(ind_max(res[7]))\n",
        "plot_image(sample_image[0][7])"
      ],
      "execution_count": 36,
      "outputs": [
        {
          "output_type": "stream",
          "text": [
            "/usr/local/lib/python3.7/dist-packages/torch/utils/data/dataloader.py:481: UserWarning: This DataLoader will create 4 worker processes in total. Our suggested max number of worker in current system is 2, which is smaller than what this DataLoader is going to create. Please be aware that excessive worker creation might get DataLoader running slow or even freeze, lower the worker number to avoid potential slowness/freeze if necessary.\n",
            "  cpuset_checked))\n",
            "/usr/local/lib/python3.7/dist-packages/ipykernel_launcher.py:33: UserWarning: Implicit dimension choice for log_softmax has been deprecated. Change the call to include dim=X as an argument.\n"
          ],
          "name": "stderr"
        },
        {
          "output_type": "stream",
          "text": [
            "3\n"
          ],
          "name": "stdout"
        },
        {
          "output_type": "display_data",
          "data": {
            "image/png": "[encoded data removed]",
            "text/plain": [
              "<Figure size 432x288 with 1 Axes>"
            ]
          },
          "metadata": {
            "needs_background": "light"
          }
        }
      ]
    },
    {
      "cell_type": "code",
      "metadata": {
        "colab": {
          "base_uri": "https://localhost:8080/"
        },
        "id": "aT5ROnuCFrhs",
        "outputId": "f05176c6-b261-4257-abe6-7a17ada3a74d"
      },
      "source": [
        "# Save model onnx\n",
        "import torch.onnx\n",
        "\n",
        "model_two.eval()\n",
        "\n",
        "sample_image = next(iter(dataloader))\n",
        "\n",
        "dummy_input =  sample_image[0].cpu()\n",
        "\n",
        "torch_out = model_two(dummy_input)\n",
        "\n",
        "torch.onnx.export(model_two, dummy_input, \"onnx_model_mnist.onnx\",opset_version=11) "
      ],
      "execution_count": 37,
      "outputs": [
        {
          "output_type": "stream",
          "text": [
            "/usr/local/lib/python3.7/dist-packages/torch/utils/data/dataloader.py:481: UserWarning: This DataLoader will create 4 worker processes in total. Our suggested max number of worker in current system is 2, which is smaller than what this DataLoader is going to create. Please be aware that excessive worker creation might get DataLoader running slow or even freeze, lower the worker number to avoid potential slowness/freeze if necessary.\n",
            "  cpuset_checked))\n",
            "/usr/local/lib/python3.7/dist-packages/ipykernel_launcher.py:33: UserWarning: Implicit dimension choice for log_softmax has been deprecated. Change the call to include dim=X as an argument.\n"
          ],
          "name": "stderr"
        }
      ]
    },
    {
      "cell_type": "code",
      "metadata": {
        "colab": {
          "base_uri": "https://localhost:8080/"
        },
        "id": "8cGQQkZ-G861",
        "outputId": "a6b1da47-a1c2-4d6f-a230-309cea30ebf7"
      },
      "source": [
        "import pip\n",
        "pip.main([\"install\", \"onnx\"])"
      ],
      "execution_count": 38,
      "outputs": [
        {
          "output_type": "stream",
          "text": [
            "WARNING: pip is being invoked by an old script wrapper. This will fail in a future version of pip.\n",
            "Please see https://github.com/pypa/pip/issues/5599 for advice on fixing the underlying issue.\n",
            "To avoid this problem you can invoke Python with '-m pip' instead of running pip directly.\n"
          ],
          "name": "stderr"
        },
        {
          "output_type": "stream",
          "text": [
            "Collecting onnx\n",
            "  Downloading onnx-1.10.1-cp37-cp37m-manylinux_2_12_x86_64.manylinux2010_x86_64.whl (12.3 MB)\n",
            "Requirement already satisfied: six in /usr/local/lib/python3.7/dist-packages (from onnx) (1.15.0)\n",
            "Requirement already satisfied: numpy>=1.16.6 in /usr/local/lib/python3.7/dist-packages (from onnx) (1.19.5)\n",
            "Requirement already satisfied: protobuf in /usr/local/lib/python3.7/dist-packages (from onnx) (3.17.3)\n",
            "Requirement already satisfied: typing-extensions>=3.6.2.1 in /usr/local/lib/python3.7/dist-packages (from onnx) (3.7.4.3)\n",
            "Installing collected packages: onnx\n",
            "Successfully installed onnx-1.10.1\n"
          ],
          "name": "stdout"
        },
        {
          "output_type": "execute_result",
          "data": {
            "text/plain": [
              "0"
            ]
          },
          "metadata": {},
          "execution_count": 38
        }
      ]
    },
    {
      "cell_type": "code",
      "metadata": {
        "colab": {
          "base_uri": "https://localhost:8080/"
        },
        "id": "3TUv5zD6HQte",
        "outputId": "9bafdd48-ca5f-4994-e9cb-d9eb05aefbf9"
      },
      "source": [
        "pip.main([\"install\", \"onnxruntime\"])"
      ],
      "execution_count": 39,
      "outputs": [
        {
          "output_type": "stream",
          "text": [
            "WARNING: pip is being invoked by an old script wrapper. This will fail in a future version of pip.\n",
            "Please see https://github.com/pypa/pip/issues/5599 for advice on fixing the underlying issue.\n",
            "To avoid this problem you can invoke Python with '-m pip' instead of running pip directly.\n"
          ],
          "name": "stderr"
        },
        {
          "output_type": "stream",
          "text": [
            "Collecting onnxruntime\n",
            "  Downloading onnxruntime-1.8.1-cp37-cp37m-manylinux_2_17_x86_64.manylinux2014_x86_64.whl (4.5 MB)\n",
            "Requirement already satisfied: numpy>=1.16.6 in /usr/local/lib/python3.7/dist-packages (from onnxruntime) (1.19.5)\n",
            "Requirement already satisfied: flatbuffers in /usr/local/lib/python3.7/dist-packages (from onnxruntime) (1.12)\n",
            "Requirement already satisfied: protobuf in /usr/local/lib/python3.7/dist-packages (from onnxruntime) (3.17.3)\n",
            "Requirement already satisfied: six>=1.9 in /usr/local/lib/python3.7/dist-packages (from protobuf->onnxruntime) (1.15.0)\n",
            "Installing collected packages: onnxruntime\n",
            "Successfully installed onnxruntime-1.8.1\n"
          ],
          "name": "stdout"
        },
        {
          "output_type": "execute_result",
          "data": {
            "text/plain": [
              "0"
            ]
          },
          "metadata": {},
          "execution_count": 39
        }
      ]
    },
    {
      "cell_type": "code",
      "metadata": {
        "id": "RKnT_daFGb-d"
      },
      "source": [
        "import onnx\n",
        "# load onnx model\n",
        "onnx_model = onnx.load(\"onnx_model_mnist.onnx\")\n",
        "onnx.checker.check_model(onnx_model)\n"
      ],
      "execution_count": 40,
      "outputs": []
    },
    {
      "cell_type": "code",
      "metadata": {
        "id": "vWuUGK8gHB--"
      },
      "source": [
        "import onnxruntime\n",
        "import numpy\n",
        "\n",
        "ort_session = onnxruntime.InferenceSession(\"onnx_model_mnist.onnx\")\n",
        "\n",
        "inputs =  dummy_input\n",
        "\n",
        "def to_numpy(tensor):\n",
        "    return tensor.detach().cpu().numpy() if tensor.requires_grad else tensor.cpu().numpy()\n",
        "\n",
        "ort_inputs = {ort_session.get_inputs()[0].name: to_numpy(inputs)}\n",
        "ort_outs = ort_session.run(None, ort_inputs)"
      ],
      "execution_count": 41,
      "outputs": []
    },
    {
      "cell_type": "code",
      "metadata": {
        "colab": {
          "base_uri": "https://localhost:8080/"
        },
        "id": "6Q3KBWEuHZGO",
        "outputId": "cfa88e6f-22ee-4330-d608-fbc3df546ca5"
      },
      "source": [
        "# Смотрим ответ он onnx модели\n",
        "print(ind_max(ort_outs[0][7]))\n",
        "\n",
        "#print(ort_outs[0][7])"
      ],
      "execution_count": 42,
      "outputs": [
        {
          "output_type": "stream",
          "text": [
            "3\n"
          ],
          "name": "stdout"
        }
      ]
    }
  ]
}